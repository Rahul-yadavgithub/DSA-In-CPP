{
 "cells": [
  {
   "cell_type": "code",
   "execution_count": null,
   "metadata": {
    "vscode": {
     "languageId": "plaintext"
    }
   },
   "outputs": [],
   "source": [
    "1-> Single Inheritance\n",
    "2-> Multiple Inheritance\n",
    "3-> multi-level Inheritance\n",
    "4-> Hierarchical Inheritance\n",
    "5-> Hybrid Inheritance"
   ]
  },
  {
   "cell_type": "code",
   "execution_count": null,
   "metadata": {
    "vscode": {
     "languageId": "plaintext"
    }
   },
   "outputs": [],
   "source": [
    "#include<bits/stdc++.h>\n",
    "using namespace std;\n",
    "\n",
    "class Vehicle{// it is parent Class\n",
    "    public:\n",
    "    int tyerSize;\n",
    "    int engineSize;\n",
    "    int lights;\n",
    "    string campanyName;\n",
    "    Vehicle(){\n",
    "        cout<<\"Vehical constructor called !!\\n\";\n",
    "    }\n",
    "\n",
    "};\n",
    "\n",
    "\n",
    "class Bike : public Vehicle{ // it means car inherits Vehicle\n",
    "    public:\n",
    "    int handleSize;\n",
    "};\n",
    "\n",
    "class Car : public Vehicle{\n",
    "    public:\n",
    "    int steeringSize;\n",
    "   // Now we check that car class constructor called or not\n",
    "   Car(){\n",
    "    cout<<\"Car constructor called !!\\n\";\n",
    "   }  \n",
    "};\n",
    "\n",
    "int main(){\n",
    "    Car honda;\n",
    "}\n",
    "\n",
    "\n",
    "in this case what we see that when we call only Car class \n",
    "so first of all the praent call called which is hear Vehical and \n",
    "their constructor run after that child class constructor run\n",
    "\n",
    "output::\n",
    "\n",
    "Vehical constructor called !!\n",
    "Car constructor called !!\n"
   ]
  },
  {
   "cell_type": "code",
   "execution_count": null,
   "metadata": {
    "vscode": {
     "languageId": "plaintext"
    }
   },
   "outputs": [],
   "source": [
    "#include<bits/stdc++.h>\n",
    "using namespace std;\n",
    "\n",
    "class Vehicle{// it is parent Class\n",
    "    public:\n",
    "    int tyerSize;\n",
    "    int engineSize;\n",
    "    int lights;\n",
    "    string campanyName;\n",
    "\n",
    "    void showCampanyName(){\n",
    "        cout<<\"this is Campany Name\";\n",
    "    }\n",
    "    Vehicle(){\n",
    "        cout<<\"Vehical constructor called !!\\n\";\n",
    "    }\n",
    "\n",
    "};\n",
    "\n",
    "\n",
    "class Bike : public Vehicle{ // it means car inherits Vehicle\n",
    "    public:\n",
    "    int handleSize;\n",
    "};\n",
    "\n",
    "class Car : public Vehicle{\n",
    "    public:\n",
    "    int steeringSize;\n",
    "   // Now we check that car class constructor called or not\n",
    "   Car(){\n",
    "    cout<<\"Car constructor called !!\\n\";\n",
    "   }  \n",
    "};\n",
    "\n",
    "int main(){\n",
    "    Car honda;\n",
    "    honda.showCampanyName();\n",
    "}\n",
    "\n",
    "in this case we call when honda.showCampanyName() then output is something looks like\n",
    "\n",
    "Vehical Constructor called !!\n",
    "Car constructor called !!\n",
    "this is campany Name \n",
    "\n",
    "so in this way child call also inherits the parents function also \n",
    "\n",
    "\n",
    "Data memerber and member function all are inherits by the child function \n"
   ]
  },
  {
   "cell_type": "code",
   "execution_count": null,
   "metadata": {
    "vscode": {
     "languageId": "plaintext"
    }
   },
   "outputs": [],
   "source": [
    "!!!##---- But does each data memeber and the member function inherits or only some specific one ??\n",
    "\n",
    "public ------- Minimum Security\n",
    "protected ------- Medium Security\n",
    "private --------- Highest Security\n",
    "\n",
    "and we never go from high to low security but we can go from low to high security\n",
    "\n",
    "when we inheriting the parent then:\n",
    "\n",
    "###########################\n",
    "class B : private A{\n",
    "\n",
    "}\n",
    "\n",
    "means the variable which are comming from the A which are Private for the class B\n",
    "means all the variable which can be come that all are become the private for the class B \n",
    "\n",
    "########################################\n",
    "\n",
    "class A{\n",
    "    private:\n",
    "    int a_ka_private;\n",
    "    \n",
    "    protected:\n",
    "    int a_ka_protected;\n",
    "\n",
    "    public: \n",
    "    int a_ka_public;\n",
    "};\n",
    "\n",
    "class B: public A{\n",
    "    public:\n",
    "    int b_ka_public;\n",
    "\n",
    "};\n",
    "\n",
    "\n",
    "private of A : we can't be accessed this as well as can't be inherited also \n",
    "protected of A: we can't be accessed this but we can be inherited \n",
    "public of A: we can accessed as well as we can be inherited this as well \n"
   ]
  },
  {
   "cell_type": "code",
   "execution_count": null,
   "metadata": {
    "vscode": {
     "languageId": "plaintext"
    }
   },
   "outputs": [],
   "source": [
    "class A{\n",
    "    private:\n",
    "    int a_ka_private;\n",
    "    \n",
    "    protected:\n",
    "    int a_ka_protected;\n",
    "\n",
    "    public: \n",
    "    int a_ka_public;\n",
    "};\n",
    "\n",
    "class B: public A{\n",
    "    public:\n",
    "    int b_ka_public;\n",
    "\n",
    "};\n",
    "\n",
    "in this case we can not access the variable of A which are protected beacuse by the rule we can not \n",
    "change the high security to low security means protected is secure and public is not so we can not make \n",
    "secure variable to the public variable \n",
    "\n",
    "That's why when we trying to assingn the value to the a_ka_protected variable we see our compiler through an \n",
    "error "
   ]
  },
  {
   "cell_type": "markdown",
   "metadata": {},
   "source": [
    "<h4> Multi-Level Inheritance <h4>"
   ]
  },
  {
   "cell_type": "code",
   "execution_count": null,
   "metadata": {
    "vscode": {
     "languageId": "plaintext"
    }
   },
   "outputs": [],
   "source": [
    "Parent Properties -----> inherited by the child --------> again previous child properties inherited by this child \n",
    "\n",
    "\n",
    "so this is multi-level inheritance"
   ]
  },
  {
   "cell_type": "markdown",
   "metadata": {},
   "source": [
    "<h4> Multiple Inheritance <h4>"
   ]
  },
  {
   "cell_type": "markdown",
   "metadata": {},
   "source": [
    "In this case we have multiple base class of derived class "
   ]
  },
  {
   "cell_type": "markdown",
   "metadata": {},
   "source": [
    "<h4> Hierarchical Inheritance <h4>"
   ]
  },
  {
   "cell_type": "code",
   "execution_count": null,
   "metadata": {
    "vscode": {
     "languageId": "plaintext"
    }
   },
   "outputs": [],
   "source": [
    "single base class have multiple derived class are known as Hierarchical inheritance\n"
   ]
  },
  {
   "cell_type": "markdown",
   "metadata": {},
   "source": [
    "<h4> Diamond Problem <h4>"
   ]
  },
  {
   "cell_type": "code",
   "execution_count": null,
   "metadata": {
    "vscode": {
     "languageId": "plaintext"
    }
   },
   "outputs": [],
   "source": [
    "when 2 instances of Base classes are present in the derived class \n",
    "\n",
    "B derives A , C derives A \n",
    "and D derives B+C. \n",
    " Now D has 2 instance of A\n",
    "\n",
    " Figure \n",
    "\n",
    "              A \n",
    "            -    -\n",
    "           -        -\n",
    "          -           -\n",
    "          B           C\n",
    "           -         -\n",
    "             -      -\n",
    "               -   -\n",
    "                 D \n",
    "\n",
    "in this case we see that D has two time the property of the parent A "
   ]
  },
  {
   "cell_type": "code",
   "execution_count": null,
   "metadata": {
    "vscode": {
     "languageId": "plaintext"
    }
   },
   "outputs": [],
   "source": [
    "#include<bits/stdc++.h>\n",
    "using namespace std;\n",
    "\n",
    "\n",
    "class A{\n",
    "    private:\n",
    "    int a_ka_private;\n",
    "\n",
    "    public: \n",
    "    int a_ka_public;\n",
    "};\n",
    "\n",
    "class B: public A{\n",
    "    public:\n",
    "    int b_ka_public;\n",
    "\n",
    "};\n",
    "\n",
    "class C: public A{\n",
    "    public:\n",
    "    int c_ka_public;\n",
    "\n",
    "};\n",
    "\n",
    "class D: public C, public B{\n",
    "    public:\n",
    "    int d_ka_public;\n",
    "\n",
    "    void show(){\n",
    "        // First method:\n",
    "        // cout<<a_ka_public<<endl   ----- So this is giving an error becz they confuse that from where we inherited things \n",
    "\n",
    "        // Second Method:\n",
    "         cout<<C:: a_ka_public<<endl;\n",
    "         cout<<B:: b_ka_public<<endl;\n",
    "    }\n",
    "};\n",
    "int main(){\n",
    "    B b;\n",
    "    b.b_ka_public = 10;\n",
    "\n",
    "}\n",
    "\n",
    "in this case the problem that i am facing that is how we can access the a_ka_public for that we use \n",
    "another keyword that is \n",
    "\n",
    "#############\n",
    "Virtual\n",
    "##############\n",
    "\n",
    "#include<bits/stdc++.h>\n",
    "using namespace std;\n",
    "\n",
    "\n",
    "class A{\n",
    "    private:\n",
    "    int a_ka_private;\n",
    "\n",
    "    public: \n",
    "    int a_ka_public;\n",
    "};\n",
    "\n",
    "class B:virtual public A{\n",
    "    public:\n",
    "    int b_ka_public;\n",
    "\n",
    "};\n",
    "\n",
    "class C:virtual public A{\n",
    "    public:\n",
    "    int c_ka_public;\n",
    "\n",
    "};\n",
    "\n",
    "class D: public C, public B{\n",
    "    public:\n",
    "    int d_ka_public;\n",
    "\n",
    "    void show(){\n",
    "        cout<<a_ka_public<<endl;\n",
    "\n",
    "    }\n",
    "};\n",
    "int main(){\n",
    "    B b;\n",
    "    b.b_ka_public = 10;\n",
    "\n",
    "}"
   ]
  }
 ],
 "metadata": {
  "language_info": {
   "name": "python"
  }
 },
 "nbformat": 4,
 "nbformat_minor": 2
}
