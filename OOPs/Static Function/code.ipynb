{
 "cells": [
  {
   "cell_type": "code",
   "execution_count": null,
   "metadata": {
    "vscode": {
     "languageId": "plaintext"
    }
   },
   "outputs": [],
   "source": [
    "#include<bits/stdc++.h>\n",
    "using namespace std;\n",
    "\n",
    "class Bike{\n",
    "    public:\n",
    "    static int noOfBikes;\n",
    "    int tyerSize;\n",
    "    int engineSize;\n",
    "    Bike(int tyerSize, int engineSize){\n",
    "        this->tyerSize = tyerSize;\n",
    "        this->engineSize = engineSize;\n",
    "    }\n",
    "\n",
    "    static void increaseNoOfBikes(){\n",
    "        noOfBikes++;\n",
    "    }\n",
    "};\n",
    "int Bike:: noOfBikes = 10;\n",
    "int main(){\n",
    "    Bike royalEnfield(4, 20);\n",
    "    Bike Bajaj(2,10);\n",
    "\n",
    "    cout<<royalEnfield.noOfBikes<<endl;\n",
    "    \n",
    "    royalEnfield.increaseNoOfBikes();\n",
    "    cout<<royalEnfield.noOfBikes<<endl;\n",
    "    \n",
    "    Bajaj.increaseNoOfBikes();\n",
    "    cout<<Bajaj.noOfBikes<<endl;\n",
    "\n",
    "}\n",
    "\n",
    "\n",
    "in this case output is something like \n",
    "10\n",
    "11\n",
    "12\n",
    "\n",
    "because static function already decleard when we call them then execute\n"
   ]
  },
  {
   "cell_type": "code",
   "execution_count": null,
   "metadata": {
    "vscode": {
     "languageId": "plaintext"
    }
   },
   "outputs": [],
   "source": [
    "so static members and class is same for all objects:\n",
    "\n",
    "it doesn't belong to the object it belong to class\n",
    "\n",
    "we can also call by call name\n",
    "\n",
    "Bike::noofBikes this also give the same result as above one give \n",
    "\n",
    ":: it is known as scope resulation "
   ]
  }
 ],
 "metadata": {
  "language_info": {
   "name": "python"
  }
 },
 "nbformat": 4,
 "nbformat_minor": 2
}
