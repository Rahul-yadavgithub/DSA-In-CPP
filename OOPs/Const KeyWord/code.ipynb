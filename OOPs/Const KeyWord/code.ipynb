{
 "cells": [
  {
   "cell_type": "code",
   "execution_count": null,
   "metadata": {
    "vscode": {
     "languageId": "plaintext"
    }
   },
   "outputs": [],
   "source": [
    "if we put const before any variable we can not change their value \n",
    "\n",
    "\n",
    "and in this case we need to define the value of the variable instantly \n",
    "\n",
    "Ex:\n",
    "const int a;\n",
    "this give error \n",
    "\n",
    "const int a = 10; ------ This is right "
   ]
  },
  {
   "cell_type": "code",
   "execution_count": null,
   "metadata": {
    "vscode": {
     "languageId": "plaintext"
    }
   },
   "outputs": [],
   "source": [
    "Constant Function in which we do not change the value \n"
   ]
  },
  {
   "cell_type": "code",
   "execution_count": null,
   "metadata": {
    "vscode": {
     "languageId": "plaintext"
    }
   },
   "outputs": [],
   "source": [
    "#include<bits/stdc++.h>\n",
    "using namespace std;\n",
    "\n",
    "class Student {\n",
    "    public:\n",
    "    const int rollNumber;\n",
    "    int age;\n",
    "    // Student(int r, int a): rollNumber(r), age(a){};\n",
    "};\n",
    "int main(){\n",
    "    Student s1(100, 23);\n",
    "    cout<<s1.rollNumber <<\" \"<<s1.age; \n",
    "}\n",
    "\n",
    "\n",
    "in this case if we not make the initialisation list then we obtaine an error \n",
    "\n",
    "but if is normal case it give error like in this case\n",
    "\n",
    "\n",
    "#include<bits/stdc++.h>\n",
    "using namespace std;\n",
    "\n",
    "class Student {\n",
    "    public:\n",
    "    const int rollNumber;\n",
    "    int age;\n",
    "    Student(int r, int a){\n",
    "        this->rollNumber = r;\n",
    "        this->age = a;\n",
    "    }\n",
    "};\n",
    "int main(){\n",
    "    Student s1(100, 23);\n",
    "    cout<<s1.rollNumber <<\" \"<<s1.age; \n",
    "}\n",
    "\n",
    "bez we cannot modify the value after the instance made \n",
    "\n",
    "but when we using the constuctor initialisation list then initialse our variable at the time of the \n",
    "object called that why it is not through error "
   ]
  }
 ],
 "metadata": {
  "language_info": {
   "name": "python"
  }
 },
 "nbformat": 4,
 "nbformat_minor": 2
}
