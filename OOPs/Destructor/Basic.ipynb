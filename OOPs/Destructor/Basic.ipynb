{
 "cells": [
  {
   "cell_type": "markdown",
   "metadata": {},
   "source": [
    "<h4> Destructor </h4>"
   ]
  },
  {
   "cell_type": "code",
   "execution_count": null,
   "metadata": {
    "vscode": {
     "languageId": "plaintext"
    }
   },
   "outputs": [],
   "source": [
    "Now we are intrested in that when our destructor is called \n",
    "\n",
    "a-> When our object goes out of scope then this is called \n",
    "\n",
    "b-> Destructor is very similar to constructor;\n",
    "\n",
    "Our Constructor called when:\n",
    "\n",
    "a-> when our object creation takes place at that time our constructor called"
   ]
  },
  {
   "cell_type": "code",
   "execution_count": null,
   "metadata": {
    "vscode": {
     "languageId": "plaintext"
    }
   },
   "outputs": [],
   "source": [
    "#include<bits/stdc++.h>\n",
    "using namespace std;\n",
    "\n",
    "class Bike{\n",
    "    public:\n",
    "    int tyreSize;\n",
    "    int engineSize;\n",
    "\n",
    "    Bike(int tyreSize, int engineSize){\n",
    "        this->tyreSize = tyreSize;\n",
    "        this->engineSize = engineSize;\n",
    "    }\n",
    "\n",
    "    ~Bike(){\n",
    "        cout<<\"Destructor Call Hua\"<<endl;\n",
    "    }\n",
    "};\n",
    "\n",
    "\n",
    "int main(){\n",
    "    Bike tvs(4, 300);  // so in this case as soon as we write this line our constructor called \n",
    "    Bike honda(6, 939);\n",
    "    Bike royalEnfield(2,943);\n",
    "    bool flag = true;\n",
    "    if(flag == true){\n",
    "        Bike Bmw(40, 10000);\n",
    "        cout<<Bmw.tyreSize<<\" \"<<Bmw.engineSize<<endl;\n",
    "    }\n",
    "    cout<<tvs.tyreSize<<\" \"<<tvs.engineSize<<endl;\n",
    "    cout<<honda.tyreSize<<\" \"<<honda.engineSize<<endl;\n",
    "    cout<<royalEnfield.tyreSize<<\" \"<<royalEnfield.engineSize<<endl;\n",
    "\n",
    "}"
   ]
  },
  {
   "cell_type": "markdown",
   "metadata": {},
   "source": [
    "<h4> The output which We get in this case is look like </h4>"
   ]
  },
  {
   "cell_type": "markdown",
   "metadata": {},
   "source": [
    "40 10000\n",
    "Destructor Call Hua\n",
    "4 300\n",
    "6 939\n",
    "2 943\n",
    "Destructor Call Hua\n",
    "Destructor Call Hua\n",
    "Destructor Call Hua\n",
    "\n",
    "\n",
    "means the destructor called when the curly braces ended \n",
    "in this case first time the curly braces ended in the Bmw object so first time we get\n",
    "\n",
    "Destructor Call Hua \n",
    "\n",
    "and after that we getting number and when the main function curly braces goes ended then our all three \n",
    "object destructor called "
   ]
  }
 ],
 "metadata": {
  "language_info": {
   "name": "python"
  }
 },
 "nbformat": 4,
 "nbformat_minor": 2
}
