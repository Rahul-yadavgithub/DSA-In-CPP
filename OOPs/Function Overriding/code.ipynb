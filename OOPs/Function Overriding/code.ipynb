{
 "cells": [
  {
   "cell_type": "code",
   "execution_count": null,
   "metadata": {
    "vscode": {
     "languageId": "plaintext"
    }
   },
   "outputs": [],
   "source": [
    "when a function of base class is redefined in it's derived \n",
    "class it's called function Overriding\n",
    "\n",
    "Accessing through Scope Resolution operator\n",
    "\n",
    "Accessing through Pointer."
   ]
  },
  {
   "cell_type": "code",
   "execution_count": null,
   "metadata": {
    "vscode": {
     "languageId": "plaintext"
    }
   },
   "outputs": [],
   "source": [
    "#include<bits/stdc++.h>\n",
    "using namespace std;\n",
    "\n",
    "\n",
    "class A{\n",
    "    private:\n",
    "    int a_ka_private;\n",
    "\n",
    "    public: \n",
    "    int a_ka_public;\n",
    "\n",
    "    void show(){\n",
    "        cout<<\"I am Show function of A \\n\";\n",
    "    }\n",
    "};\n",
    "\n",
    "class B: public A{\n",
    "    public:\n",
    "    int b_ka_public;\n",
    "\n",
    "    void show(){\n",
    "        cout<<\"I am show function of B\\n\";\n",
    "    }\n",
    "\n",
    "};\n",
    "\n",
    "\n",
    "\n",
    "\n",
    "int main(){\n",
    "    B b;\n",
    "    b.b_ka_public = 10;\n",
    "    b.show();\n",
    "\n",
    "}\n",
    "\n",
    "in this case what we looking show function already inside the parent class still we make \n",
    "show function inside the child this process is known as overriding"
   ]
  },
  {
   "cell_type": "markdown",
   "metadata": {},
   "source": [
    "<h4>1st method to access parent function using the child<h4>"
   ]
  },
  {
   "cell_type": "code",
   "execution_count": null,
   "metadata": {
    "vscode": {
     "languageId": "plaintext"
    }
   },
   "outputs": [],
   "source": [
    "by using the Scope Resolution operator we can access them\n",
    "\n",
    "b.A::show(); \n",
    "\n",
    "now this give the output that is \n",
    "\n",
    "I am function of A"
   ]
  },
  {
   "cell_type": "markdown",
   "metadata": {},
   "source": [
    "<h4>2nd Method to access parent function using the pointer<h4>"
   ]
  },
  {
   "cell_type": "code",
   "execution_count": null,
   "metadata": {
    "vscode": {
     "languageId": "plaintext"
    }
   },
   "outputs": [],
   "source": [
    "in this case what we seeing that parent pointer can store child's \n",
    "\n",
    "like \n",
    "A is parent of B then \n",
    "\n",
    "A* a;\n",
    "B b;\n",
    "a = &b \n",
    "so this is write \n",
    "\n",
    "This happend becuase parent some  part also store in the child so they can also store the add of child"
   ]
  },
  {
   "cell_type": "code",
   "execution_count": null,
   "metadata": {
    "vscode": {
     "languageId": "plaintext"
    }
   },
   "outputs": [],
   "source": [
    "#include<bits/stdc++.h>\n",
    "using namespace std;\n",
    "\n",
    "class Vehicle{// it is parent Class\n",
    "    public:\n",
    "    int tyerSize;\n",
    "    int engineSize;\n",
    "    int lights;\n",
    "    string campanyName;\n",
    "\n",
    "     void show(){\n",
    "        cout<<\"This is vehicle show function\\n\";\n",
    "     }\n",
    "\n",
    "};\n",
    "\n",
    "\n",
    "class Bike : public Vehicle{ // it means car inherits Vehicle\n",
    "    public:\n",
    "    int handleSize;\n",
    "\n",
    "    void show(){\n",
    "        cout<<\"This is the Bike show function\\n\";\n",
    "    }\n",
    "};\n",
    "\n",
    "\n",
    "\n",
    "\n",
    "\n",
    "\n",
    "int main(){\n",
    "    Bike b;\n",
    "    Vehicle* a;\n",
    "    a = &b;\n",
    "    a->show();\n",
    "}\n",
    "\n",
    "\n",
    "in this case we see the output which is so different means the output is hear \n",
    "\n",
    "##############\n",
    "This is vehicle show function\n",
    "##############\n",
    "\n",
    "\n",
    "but we can see a stores the address of b so according to that we have to optain the \n",
    "This is the Bike show function \n",
    "\n",
    "Shwo contradition arise hear:\n",
    "\n",
    "According to compiler: vehicle function need to print beacuse a is a pointer of vehicle\n",
    "\n",
    "According to RunTime : This need to show the address of the Bike becuase we assign the address of bike "
   ]
  },
  {
   "cell_type": "markdown",
   "metadata": {},
   "source": [
    "<h4> Removing the Problem which is just above we mention is solved by #### Virtual Function  #### <h4>"
   ]
  },
  {
   "cell_type": "code",
   "execution_count": null,
   "metadata": {
    "vscode": {
     "languageId": "plaintext"
    }
   },
   "outputs": [],
   "source": [
    "Virtual Function make sure the correct function is called for an \n",
    "object regardless of the pointer used for calling it.\n",
    "\n",
    "\n",
    "\n",
    "\n",
    "#include<bits/stdc++.h>\n",
    "using namespace std;\n",
    "\n",
    "class Vehicle{// it is parent Class\n",
    "    public:\n",
    "    int tyerSize;\n",
    "    int engineSize;\n",
    "    int lights;\n",
    "    string campanyName;\n",
    "\n",
    "     virtual void show(){\n",
    "        cout<<\"This is vehicle show function\\n\";\n",
    "     }\n",
    "\n",
    "};\n",
    "\n",
    "\n",
    "class Bike : public Vehicle{ // it means car inherits Vehicle\n",
    "    public:\n",
    "    int handleSize;\n",
    "\n",
    "    void show(){\n",
    "        cout<<\"This is the Bike show function\\n\";\n",
    "    }\n",
    "};\n",
    "\n",
    "\n",
    "\n",
    "\n",
    "\n",
    "\n",
    "int main(){\n",
    "    Bike b;\n",
    "    Vehicle* a;\n",
    "    a = &b;\n",
    "    a->show();\n",
    "}\n",
    "\n",
    "\n",
    "\n",
    "Now inserting the virtual keyword infornt of the A show function and we get the \n",
    "value of their child that is \n",
    "\n",
    "This is the Bike show function \n",
    "\n",
    "\n",
    "one more concept come hear that how the function bind \n",
    "\n",
    "1-> compile time binding : in this case we see the type a which is in this case vehicle \n",
    "so when we do a->show() this give the show function which is present in the vehicle means \n",
    "at this time it bind the Bike to run \n",
    "\n",
    "2-> runTime binding : in this case compiler see infornt of void function in the A \n",
    "virtual written means when the value which is assingend to the a which will print"
   ]
  },
  {
   "cell_type": "code",
   "execution_count": null,
   "metadata": {
    "vscode": {
     "languageId": "plaintext"
    }
   },
   "outputs": [],
   "source": [
    "#include<bits/stdc++.h>\n",
    "using namespace std;\n",
    "\n",
    "class Vehicle{// it is parent Class\n",
    "    public:\n",
    "    int tyerSize;\n",
    "    int engineSize;\n",
    "    int lights;\n",
    "    string campanyName;\n",
    "\n",
    "    virtual void show(){\n",
    "        cout<<\"This is vehicle show function\\n\";\n",
    "     }\n",
    "\n",
    "};\n",
    "\n",
    "\n",
    "class Bike : public Vehicle{ // it means car inherits Vehicle\n",
    "    public:\n",
    "    int handleSize;\n",
    "\n",
    "    void show(){\n",
    "        cout<<\"This is the Bike show function\\n\";\n",
    "    }\n",
    "};\n",
    "\n",
    "class C : public Bike{\n",
    "    public:\n",
    "    void show(){\n",
    "        cout<<\"This is C Function Show\\n\";\n",
    "    }\n",
    "};\n",
    "\n",
    "\n",
    "\n",
    "\n",
    "\n",
    "\n",
    "int main(){\n",
    "    // Bike b;\n",
    "    // Vehicle* a;\n",
    "    // a = &b;\n",
    "    // a->show();\n",
    "\n",
    "    Bike* b;\n",
    "    b = new C;\n",
    "    b->show();\n",
    "}\n",
    "\n",
    "in this case we see the output \n",
    "\n",
    "This is C Function Show still we do not use the virtual anywhere so why this happend\n",
    "\n",
    "This happend becuase in one virtual we define this so this work in each show function "
   ]
  },
  {
   "cell_type": "code",
   "execution_count": null,
   "metadata": {
    "vscode": {
     "languageId": "plaintext"
    }
   },
   "outputs": [],
   "source": [
    "#include<bits/stdc++.h>\n",
    "using namespace std;\n",
    "\n",
    "class Vehicle{// it is parent Class\n",
    "    public:\n",
    "    int tyerSize;\n",
    "    int engineSize;\n",
    "    virtual void show(){\n",
    "        cout<<\"This is vehicle show function\\n\";\n",
    "     }\n",
    "\n",
    "};\n",
    "class Bike : public Vehicle{ // it means car inherits Vehicle\n",
    "    public:\n",
    "    int handleSize;\n",
    "\n",
    "     void show(){\n",
    "        cout<<\"This is the Bike show function\\n\";\n",
    "    }\n",
    "};\n",
    "\n",
    "class C : public Bike{\n",
    "    public:\n",
    "    void show(){\n",
    "        cout<<\"This is C Function Show\\n\";\n",
    "    }\n",
    "};\n",
    "int main(){\n",
    "    Vehicle a;\n",
    "    Bike b;\n",
    "    cout<<sizeof(a)<<endl;\n",
    "    cout<<sizeof(b)<<endl;\n",
    "}\n",
    "\n",
    "in this case we see to observation one is \n",
    "1-> without virtual when we run our code we find \n",
    "8\n",
    "12 \n",
    "in the terminal which is the actual size of the variable \n",
    "\n",
    "2-> when we add the virtual we find output \n",
    "\n",
    "12\n",
    "16 \n",
    "\n",
    "becz in the backgound their is two thing happend \n",
    "a> vptr = virtual pointer \n",
    "b> vtable = virtual table \n",
    "\n",
    "so when we run the code for show in runtime our compiler see the virtual infornt of the show\n",
    "they make one pointer vptr which mainly point the vtable which contain the binding function which is hear show\n",
    "so this new pointer also take some memroy that's why we are seeing this differnt;"
   ]
  }
 ],
 "metadata": {
  "language_info": {
   "name": "python"
  }
 },
 "nbformat": 4,
 "nbformat_minor": 2
}
