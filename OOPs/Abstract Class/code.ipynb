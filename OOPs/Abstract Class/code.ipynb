{
 "cells": [
  {
   "cell_type": "code",
   "execution_count": null,
   "metadata": {
    "vscode": {
     "languageId": "plaintext"
    }
   },
   "outputs": [],
   "source": [
    "Abstract Class is related to the virtual function \n",
    "\n",
    "what is the pure virtual function ??\n",
    "\n",
    "if we want to make the pure function so we some minor change do in the virtual function \n",
    "\n",
    "virtual void calculateMileage() = 0 \n",
    "\n",
    "so it become pure virtual function \n",
    "\n",
    "so the class which contain the pure virtual function is called the Abstract Class\n",
    "\n",
    "### Pure Virtual function : \n",
    "when we declare the function in the Base class but the actual definition of the function must be in \n",
    "the derived class means function which type work what we need to define inside the function is done in \n",
    "derived class and in the base class we declare becuse that insure that each derived class have this function \n",
    "\n"
   ]
  },
  {
   "cell_type": "code",
   "execution_count": null,
   "metadata": {
    "vscode": {
     "languageId": "plaintext"
    }
   },
   "outputs": [],
   "source": [
    "#include<bits/stdc++.h>\n",
    "using namespace std;\n",
    "\n",
    "class Vehicle{// it is parent Class\n",
    "    public:\n",
    "    int tyerSize;\n",
    "    int engineSize;\n",
    "    virtual void calculateMileage() = 0;\n",
    "    virtual void refuel() = 0;\n",
    "\n",
    "};\n",
    "class Bike : public Vehicle{ // it means car inherits Vehicle\n",
    "    public:\n",
    "    int handleSize;\n",
    "\n",
    "     void calculateMileage(){\n",
    "        cout<<\"This is the Bike show function\\n\";\n",
    "    }\n",
    "    \n",
    "    void refuel(){\n",
    "        cout<<\"This is Refuel function !!\\n\";\n",
    "    }\n",
    "};\n",
    "\n",
    "int main(){\n",
    "\n",
    "    Bike b;\n",
    "    b.calculateMileage();\n",
    "    b.refuel();\n",
    "}\n",
    "\n",
    "\n",
    "In this case we can see that if we define some function in the base class then it is mandetory to \n",
    "give the definition of the function other wise this will through the error "
   ]
  },
  {
   "cell_type": "code",
   "execution_count": null,
   "metadata": {
    "vscode": {
     "languageId": "plaintext"
    }
   },
   "outputs": [],
   "source": [
    "Pure Abstract class also exist which demand that each function must be the pure virtual function \n",
    "only then this is called as pure Abstract Class"
   ]
  }
 ],
 "metadata": {
  "language_info": {
   "name": "python"
  }
 },
 "nbformat": 4,
 "nbformat_minor": 2
}
