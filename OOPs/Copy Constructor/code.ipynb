{
 "cells": [
  {
   "cell_type": "code",
   "execution_count": null,
   "metadata": {
    "vscode": {
     "languageId": "plaintext"
    }
   },
   "outputs": [],
   "source": [
    "Their are two type of copy \n",
    "\n",
    "1-> Shallow copy \n",
    "2-> Deep copy\n",
    "\n"
   ]
  },
  {
   "cell_type": "markdown",
   "metadata": {},
   "source": [
    "<h4>Shallow Copy <h4>"
   ]
  },
  {
   "cell_type": "markdown",
   "metadata": {},
   "source": [
    "in this case we make two object \n",
    "\n",
    "1-> obj1\n",
    "2-> obj2\n",
    "\n",
    "and when we write \n",
    "\n",
    "obj1 = obj2 \n",
    "\n",
    "in this case what we see that when we change something obj1 that change also reflect in the obj2 so it is the shollow copy of obj1\n",
    "\n",
    "so our obj2 is not independ copy it depend on the obj1"
   ]
  },
  {
   "cell_type": "markdown",
   "metadata": {},
   "source": [
    "<h4>Deep Copy </h4>"
   ]
  },
  {
   "cell_type": "code",
   "execution_count": null,
   "metadata": {
    "vscode": {
     "languageId": "plaintext"
    }
   },
   "outputs": [],
   "source": [
    "in this case we do same thing but things are different\n",
    "\n",
    "make two object\n",
    "1-> obj1\n",
    "2-> obj2\n",
    "\n",
    "so in this case the obj1 is pointing some memory space where\n",
    "the obj2 is also pointing some other memory space and \n",
    "the value of obj1 we copy inside the obj2 this only happened in this case"
   ]
  },
  {
   "cell_type": "code",
   "execution_count": null,
   "metadata": {
    "vscode": {
     "languageId": "plaintext"
    }
   },
   "outputs": [],
   "source": [
    "make \n",
    "\n",
    "Bike b1(40, 2000);\n",
    "Bike b2;\n",
    "b2 = b1;  // in this case shallow copy made \n",
    "\n",
    "To overcome this problem we do something like \n",
    "\n",
    "Bike b2 = b1; (copy constructor)\n",
    "Bike b2(b1) ; (this is also a copy constructor )\n",
    "\n",
    "so copy constructor make a deep copy\n",
    "\n",
    "hear return type is Bike itself which is class type \n",
    "and parameter also take same things \n",
    "\n",
    "and hear the function when we making copy constructor we\n",
    "need to pass via pass by reference not pass by value\n",
    "\n"
   ]
  },
  {
   "cell_type": "code",
   "execution_count": null,
   "metadata": {
    "vscode": {
     "languageId": "plaintext"
    }
   },
   "outputs": [],
   "source": [
    "#include <iostream>\n",
    "using namespace std;\n",
    "class MyClass {\n",
    "public:\n",
    "    int value;\n",
    "\n",
    "    // Copy constructor that takes an object by value (causes infinite recursion)\n",
    "    MyClass(MyClass other) {\n",
    "        value = other.value; // Attempt to copy the value from 'other'\n",
    "        cout << \"Copy constructor called\\n\";\n",
    "    }\n",
    "};\n",
    "\n",
    "int main() {\n",
    "    MyClass obj1;  // Create an original object\n",
    "    obj1.value = 10;\n",
    "\n",
    "    MyClass obj2 = obj1; // Attempt to copy obj1 to obj2, triggering the copy constructor\n",
    "    return 0;\n",
    "}\n",
    "\n",
    "\n",
    "in this case what happed \n",
    "\n",
    "MyClass obj2 = obj1; \n",
    "\n",
    "This line used when we want to create the obje2 of the MyClass type and copying the data of obj1 inside the obj2 the copy constructor called which \n",
    "call \n",
    "\n",
    "Myclass(MyClass other) : in this case MyClass other which also equal to MyClass Obj2 = Obj1 so again that call to copy cnonstructor in this way we \n",
    "obtain the infinite loop"
   ]
  },
  {
   "cell_type": "markdown",
   "metadata": {},
   "source": [
    "<h4> To overCome the Infinite Loop <h4>"
   ]
  },
  {
   "cell_type": "code",
   "execution_count": null,
   "metadata": {
    "vscode": {
     "languageId": "plaintext"
    }
   },
   "outputs": [],
   "source": [
    "#include <iostream>\n",
    "using namespace std;\n",
    "\n",
    "class MyClass {\n",
    "public:\n",
    "    int value;\n",
    "\n",
    "    // Copy constructor\n",
    "    MyClass(const MyClass& other) {\n",
    "        value = other.value; // Copy the value from 'other' to the new object\n",
    "        cout << \"Copy constructor called\\n\";\n",
    "    }\n",
    "};\n",
    "\n",
    "int main() {\n",
    "    MyClass obj1;      // Default constructor initializes obj1\n",
    "    obj1.value = 10;   // Set value of obj1\n",
    "\n",
    "    // Initialize obj2 by copying obj1\n",
    "    MyClass obj2 = obj1; // This calls the copy constructor\n",
    "\n",
    "    cout << \"obj1.value: \" << obj1.value << \"\\n\";\n",
    "    cout << \"obj2.value: \" << obj2.value << \"\\n\";\n",
    "    return 0;\n",
    "}\n",
    "\n",
    "\n"
   ]
  }
 ],
 "metadata": {
  "language_info": {
   "name": "python"
  }
 },
 "nbformat": 4,
 "nbformat_minor": 2
}
