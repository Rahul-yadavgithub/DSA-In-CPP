{
 "cells": [
  {
   "cell_type": "code",
   "execution_count": null,
   "metadata": {
    "vscode": {
     "languageId": "plaintext"
    }
   },
   "outputs": [],
   "source": [
    "The static keyword is used with a variable to make the memory \n",
    "of the variable static once a static variable is declared its \n",
    "memroy can't be changed."
   ]
  },
  {
   "cell_type": "code",
   "execution_count": null,
   "metadata": {
    "vscode": {
     "languageId": "plaintext"
    }
   },
   "outputs": [],
   "source": [
    "void print(){\n",
    "    int b = 10;\n",
    "    cout<<b<<endl;\n",
    "    b++;\n",
    "}\n",
    "\n",
    "int main(){\n",
    "    print();\n",
    "    print();\n",
    "    print();\n",
    "}\n",
    "\n",
    "in this case what we see in our output that is \n",
    "\n",
    "10\n",
    "10\n",
    "10 \n",
    "so hear we obtaining again and again 10 ,10 where we increasing the value of b still\n",
    "bez this again and again new memory assinging so removing this we use the static keyword\n",
    "\n",
    "\n",
    "void print(){\n",
    "    static int b = 10;\n",
    "    cout<<b<<endl;\n",
    "    b++;\n",
    "}\n",
    "\n",
    "int main(){\n",
    "    print();\n",
    "    print();\n",
    "    print();\n",
    "}\n",
    "\n",
    "output:\n",
    "10\n",
    "11\n",
    "12"
   ]
  },
  {
   "cell_type": "code",
   "execution_count": null,
   "metadata": {
    "vscode": {
     "languageId": "plaintext"
    }
   },
   "outputs": [],
   "source": [
    "#include<bits/stdc++.h>\n",
    "using namespace std;\n",
    "\n",
    "class Bike{\n",
    "    public:\n",
    "    static int noOfBikes;\n",
    "    int tyerSize;\n",
    "    int engineSize;\n",
    "    Bike(int tyerSize, int engineSize){\n",
    "        this->tyerSize = tyerSize;\n",
    "        this->engineSize = engineSize;\n",
    "    }\n",
    "};\n",
    "int Bike:: noOfBikes = 10;\n",
    "int main(){\n",
    "    Bike royalEnfield(4, 20);\n",
    "    Bike Bajaj(2,10);\n",
    "\n",
    "    cout<<royalEnfield.noOfBikes<<endl;\n",
    "    cout<<Bajaj.noOfBikes<<endl;\n",
    "\n",
    "}\n",
    "\n",
    "\n",
    "in this case what we see that when we cout for noOfBikes we see for the both \n",
    "we obtain the noOfBikes so it is a variable of the class upto now we are know that \n",
    "the class is just a skeleton but in this case when we use static keyword we see \n",
    "class also contain the variable which is hear noOfBikes"
   ]
  }
 ],
 "metadata": {
  "language_info": {
   "name": "python"
  }
 },
 "nbformat": 4,
 "nbformat_minor": 2
}
