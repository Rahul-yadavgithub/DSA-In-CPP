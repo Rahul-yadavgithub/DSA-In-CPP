{
 "cells": [
  {
   "cell_type": "code",
   "execution_count": null,
   "metadata": {
    "vscode": {
     "languageId": "plaintext"
    }
   },
   "outputs": [],
   "source": [
    "In Inheritence we see the children can access only the \n",
    "protected and the public but if they want to access then private then the \n",
    "\n",
    "#### Friend ### keyword come in the picture which can give the access to the private one also "
   ]
  },
  {
   "cell_type": "code",
   "execution_count": null,
   "metadata": {
    "vscode": {
     "languageId": "plaintext"
    }
   },
   "outputs": [],
   "source": [
    "class A{\n",
    "    private:\n",
    "    int a_private =10;\n",
    "    public: \n",
    "    friend void show(A &a);\n",
    "    // void show2(){\n",
    "    //     cout<<a_private<<endl;\n",
    "    // }\n",
    "};\n",
    "\n",
    "void show(A &a){\n",
    "    cout<<a.a_private<<endl;\n",
    "}\n",
    "\n",
    "\n",
    "hear friend accessing the private one "
   ]
  },
  {
   "cell_type": "markdown",
   "metadata": {},
   "source": [
    "<h4> Friend Member <h4>"
   ]
  },
  {
   "cell_type": "code",
   "execution_count": null,
   "metadata": {
    "vscode": {
     "languageId": "plaintext"
    }
   },
   "outputs": [],
   "source": [
    "#include<bits/stdc++.h>\n",
    "using namespace std;\n",
    "\n",
    "\n",
    "class ComplexNumber {\n",
    "    public:\n",
    "    int imaginary;\n",
    "    int real;\n",
    "    \n",
    "    friend ComplexNumber operator + (ComplexNumber &c1, ComplexNumber &c2);\n",
    "};\n",
    "\n",
    "ComplexNumber operator +(ComplexNumber &c1, ComplexNumber &c2){\n",
    "    ComplexNumber c3;\n",
    "    c3.imaginary = c1.imaginary + c2.imaginary;\n",
    "    c3.real = c1.real + c2.real;\n",
    "    return c3;\n",
    "}\n",
    "\n",
    "class A{\n",
    "    private:\n",
    "    int a_private =10;\n",
    "    public: \n",
    "    friend void show(A &a);\n",
    "    // void show2(){\n",
    "    //     cout<<a_private<<endl;\n",
    "    // }\n",
    "};\n",
    "\n",
    "void show(A &a){\n",
    "    cout<<a.a_private<<endl;\n",
    "}\n",
    "\n",
    "int main(){\n",
    "    ComplexNumber a1 , a2;\n",
    "    a1.imaginary  = 10;\n",
    "    a1.real = 5;\n",
    "\n",
    "    a2.imaginary = 2;\n",
    "    a2.real = 4; \n",
    "\n",
    "    ComplexNumber c3 = a1+ a2;\n",
    "    cout<<c3.real<<\" \"<< c3.imaginary<<endl;\n",
    "\n",
    "}"
   ]
  },
  {
   "cell_type": "markdown",
   "metadata": {},
   "source": [
    "<h4> Friend Class <h4>"
   ]
  },
  {
   "cell_type": "code",
   "execution_count": null,
   "metadata": {
    "vscode": {
     "languageId": "plaintext"
    }
   },
   "outputs": [],
   "source": [
    "#include<bits/stdc++.h>\n",
    "using namespace std;\n",
    "\n",
    "\n",
    "class ComplexNumber {\n",
    "    private:\n",
    "    int p;\n",
    "    public:\n",
    "    int imaginary;\n",
    "    int real;\n",
    "\n",
    "    friend class primeNumber;\n",
    "};\n",
    "\n",
    "\n",
    "class primeNumber{\n",
    "    void show(ComplexNumber &c){\n",
    "        c.p = 10;\n",
    "    }\n",
    "\n",
    "};\n",
    "int main(){\n",
    "}"
   ]
  }
 ],
 "metadata": {
  "language_info": {
   "name": "python"
  }
 },
 "nbformat": 4,
 "nbformat_minor": 2
}
