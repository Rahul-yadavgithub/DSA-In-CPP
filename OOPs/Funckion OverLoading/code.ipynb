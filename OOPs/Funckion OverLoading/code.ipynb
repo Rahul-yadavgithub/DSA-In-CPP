{
 "cells": [
  {
   "cell_type": "code",
   "execution_count": null,
   "metadata": {
    "vscode": {
     "languageId": "plaintext"
    }
   },
   "outputs": [],
   "source": [
    "Creating Function with Same name but differnet parameters.\n",
    "\n",
    "we are now moving toword's the polymorphis "
   ]
  },
  {
   "cell_type": "markdown",
   "metadata": {},
   "source": [
    "<h>Types of Polymorphism:<h>"
   ]
  },
  {
   "cell_type": "code",
   "execution_count": null,
   "metadata": {
    "vscode": {
     "languageId": "plaintext"
    }
   },
   "outputs": [],
   "source": [
    "1-> Compile Time Polymorphis \n",
    "a> Function Overloading\n",
    "b> Open Overloading\n",
    "\n",
    "2-> run Time polymorphis\n",
    "a> Function Overriding"
   ]
  },
  {
   "cell_type": "code",
   "execution_count": null,
   "metadata": {
    "vscode": {
     "languageId": "plaintext"
    }
   },
   "outputs": [],
   "source": [
    "#include<bits/stdc++.h>\n",
    "using namespace std;\n",
    "\n",
    "void add(int a, int b){\n",
    "\n",
    "}\n",
    "void add(int b){\n",
    "\n",
    "}\n",
    "\n",
    "int main(){\n",
    "\n",
    "}\n",
    "\n",
    "in this case we can see same type function we can make with same name also \n",
    "but differnet parameters so that we not recive any error this is known as polymorphis\n",
    "\n",
    "\n",
    "we can say that with the help of same function we do so many work are know as function overloading \n",
    "\n",
    "\n",
    "Simailarly we can also use the constuctor overloading mean's we can make so many constuctor in the same class \n",
    "by changing the parameters\n"
   ]
  },
  {
   "cell_type": "code",
   "execution_count": null,
   "metadata": {
    "vscode": {
     "languageId": "plaintext"
    }
   },
   "outputs": [],
   "source": []
  }
 ],
 "metadata": {
  "language_info": {
   "name": "python"
  }
 },
 "nbformat": 4,
 "nbformat_minor": 2
}
