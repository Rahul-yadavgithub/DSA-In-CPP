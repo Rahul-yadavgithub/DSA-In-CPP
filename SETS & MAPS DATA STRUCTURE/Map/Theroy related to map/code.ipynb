{
 "cells": [
  {
   "cell_type": "markdown",
   "metadata": {},
   "source": [
    "1-> Set are a type of associative container\n",
    "\n"
   ]
  },
  {
   "cell_type": "markdown",
   "metadata": {},
   "source": [
    "<h3>Types of Container</h3>"
   ]
  },
  {
   "cell_type": "markdown",
   "metadata": {},
   "source": [
    "1-> associative container\n",
    "\n",
    "2-> Sequential container"
   ]
  },
  {
   "cell_type": "markdown",
   "metadata": {},
   "source": [
    "<h4>Associative Container</h4>"
   ]
  },
  {
   "cell_type": "markdown",
   "metadata": {},
   "source": [
    "in this mainly -> Set , map, unrodered_map, unordered_set are come \n",
    "\n"
   ]
  },
  {
   "cell_type": "markdown",
   "metadata": {},
   "source": [
    "<h4>Sequential container</h4>"
   ]
  },
  {
   "cell_type": "markdown",
   "metadata": {},
   "source": [
    "vector, list, queue are come "
   ]
  },
  {
   "cell_type": "markdown",
   "metadata": {},
   "source": [
    "<h1>Set</h2>"
   ]
  },
  {
   "cell_type": "markdown",
   "metadata": {},
   "source": [
    "a-> values are stored in a specific sorted order either ascending or descending order\n",
    "\n",
    "b-> It store only the unique value and if we want to store multiple value then we can use Multiset"
   ]
  },
  {
   "cell_type": "markdown",
   "metadata": {},
   "source": [
    "<h4> Properties</h4>"
   ]
  },
  {
   "cell_type": "markdown",
   "metadata": {},
   "source": [
    "The value of the element cannot be modified once it is added to the set though it is possible to remove and then add the modified value of that element \n",
    "\n",
    "2-> Search Technique: sets follow the Binary Serach Tree implimentation \n",
    "\n",
    "3-> The values in a set are unidexed"
   ]
  },
  {
   "cell_type": "markdown",
   "metadata": {},
   "source": []
  }
 ],
 "metadata": {
  "language_info": {
   "name": "python"
  }
 },
 "nbformat": 4,
 "nbformat_minor": 2
}
